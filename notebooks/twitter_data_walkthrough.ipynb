{
 "cells": [
  {
   "cell_type": "markdown",
   "metadata": {},
   "source": []
  },
  {
   "cell_type": "code",
   "execution_count": 1,
   "metadata": {},
   "outputs": [
    {
     "name": "stdout",
     "output_type": "stream",
     "text": [
      "Column Names:\n",
      "['2401', 'Borderlands', 'Positive', 'im getting on borderlands and i will murder you all ,']\n",
      "shape of dataset  (74681, 4)\n"
     ]
    }
   ],
   "source": [
    "import pandas as pd\n",
    "\n",
    "def load_csv_and_print_columns(file_path):\n",
    "    try:\n",
    "        # Load the CSV file into a pandas DataFrame\n",
    "        df = pd.read_csv(file_path)\n",
    "\n",
    "        # Print the column names\n",
    "        print(\"Column Names:\")\n",
    "        print(df.columns.tolist())\n",
    "        df = pd.read_csv(file_path)\n",
    "        print(\"shape of dataset \", df.shape)\n",
    "        df.columns = [\"id\", \"game\", \"sentiment label\", \"tweet\"]\n",
    "        df = df.head(5)  # k is an integer\n",
    "    except Exception as e:\n",
    "        print(f\"An error occurred: {e}\")\n",
    "# Replace 'your_file_path.csv' with the path to your CSV file\n",
    "file_path = '../data/raw/twitter_training.csv'\n",
    "load_csv_and_print_columns(file_path)\n"
   ]
  },
  {
   "cell_type": "code",
   "execution_count": 7,
   "metadata": {},
   "outputs": [
    {
     "name": "stdout",
     "output_type": "stream",
     "text": [
      "Shape of the tensor: torch.Size([25000, 768])\n",
      "Shape of the tensor: torch.Size([25000, 4])\n",
      "tensor([[0., 0., 0., 1.],\n",
      "        [0., 0., 0., 1.],\n",
      "        [0., 0., 0., 1.],\n",
      "        ...,\n",
      "        [0., 0., 1., 0.],\n",
      "        [0., 0., 1., 0.],\n",
      "        [0., 0., 1., 0.]])\n"
     ]
    }
   ],
   "source": [
    "import torch\n",
    "\n",
    "def load_tensor_and_print_shape(file_path):\n",
    "    # Load the tensor from the file\n",
    "    tensor = torch.load(file_path)\n",
    "\n",
    "    # Print the shape of the tensor\n",
    "    print(\"Shape of the tensor:\", tensor.shape)\n",
    "\n",
    "# Replace 'path/to/your/tensor.pt' with the actual path to your .pt file\n",
    "texts_path = '../data/processed/text_embeddings.pt'\n",
    "load_tensor_and_print_shape(texts_path)\n",
    "labels_path = '../data/processed/labels.pt'\n",
    "load_tensor_and_print_shape(labels_path)\n"
   ]
  },
  {
   "cell_type": "code",
   "execution_count": 3,
   "metadata": {},
   "outputs": [
    {
     "name": "stdout",
     "output_type": "stream",
     "text": [
      "Flattened tensor: tensor([1, 4, 2, 5, 3, 6])\n",
      "Shape of flattened tensor: torch.Size([6])\n"
     ]
    }
   ],
   "source": [
    "import torch \n",
    "\n",
    "th = torch.tensor([[1, 2, 3],\n",
    "                  [4, 5, 6]])\n",
    "flattened_tensor = th.transpose(0, 1).flatten(start_dim=0, end_dim=1)\n",
    "\n",
    "# Print the flattened tensor and its shape\n",
    "print(\"Flattened tensor:\", flattened_tensor)\n",
    "print(\"Shape of flattened tensor:\", flattened_tensor.shape)"
   ]
  }
 ],
 "metadata": {
  "kernelspec": {
   "display_name": "MLOpsTSA",
   "language": "python",
   "name": "python3"
  },
  "language_info": {
   "codemirror_mode": {
    "name": "ipython",
    "version": 3
   },
   "file_extension": ".py",
   "mimetype": "text/x-python",
   "name": "python",
   "nbconvert_exporter": "python",
   "pygments_lexer": "ipython3",
   "version": "3.10.13"
  }
 },
 "nbformat": 4,
 "nbformat_minor": 2
}
